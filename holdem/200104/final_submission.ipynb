{
 "metadata": {
  "name": "",
  "signature": "sha256:557eb98f6c7abb2b4d3bf6960b43d22cb0cac9f65d89c47002118f4b1d0975d4"
 },
 "nbformat": 3,
 "nbformat_minor": 0,
 "worksheets": [
  {
   "cells": [
    {
     "cell_type": "heading",
     "level": 1,
     "metadata": {},
     "source": [
      "Import Modules"
     ]
    },
    {
     "cell_type": "code",
     "collapsed": false,
     "input": [
      "%matplotlib inline \n",
      "import pandas as pd\n",
      "import numpy as np\n",
      "from scipy.stats import ttest_ind\n",
      "import matplotlib.pyplot as plt\n",
      "import collections\n",
      "import pprint\n",
      "pp = pprint.PrettyPrinter(indent=8)\n",
      "import pylab\n",
      "import itertools\n",
      "import sklearn\n",
      "import sklearn.datasets\n",
      "import sklearn.cross_validation\n",
      "import sklearn.decomposition\n",
      "import sklearn.grid_search\n",
      "import sklearn.neighbors\n",
      "import sklearn.metrics\n",
      "from sklearn import cluster\n",
      "import seaborn as sns"
     ],
     "language": "python",
     "metadata": {},
     "outputs": [],
     "prompt_number": 3
    },
    {
     "cell_type": "heading",
     "level": 1,
     "metadata": {},
     "source": [
      "Define General Constants/Helper Functions"
     ]
    },
    {
     "cell_type": "code",
     "collapsed": false,
     "input": [
      "NUM_PLAYERS_PATH = \"../../num_players_to_df/\"\n",
      "\n",
      "PLAYER_QUALITIES_COLUMNS = [\"player\", \"hands\", \"showdown\", \"post_flop\", \"positive\", \"zero\", \"neg\", \\\n",
      "                            \"winnings\", \"aggression\", \"prflop_folds\", \"prflop_raises\"]\n",
      "\n",
      "def nice_graph(xlab, ylab, title):\n",
      "    plt.xlabel(xlab)\n",
      "    plt.ylabel(ylab)\n",
      "    plt.title(title)\n",
      "\n",
      "\"\"\"\n",
      "matrix_plot plots multiple scatter / histogram graphs\n",
      "Given a list of tuples (x,y), it makes graphs\n",
      "\"\"\"\n",
      "def matrix_plot(list_of_tuples, aspect, list_of_axes, plt_type=\"scatter\", fig_size=(20,20), cs=[]):\n",
      "    fg = plt.figure(figsize=fig_size)\n",
      "    adj = plt.subplots_adjust(hspace=.5,wspace=.25)\n",
      "    sp = plt.subplot(aspect[0],aspect[1],1)\n",
      "    for idx, (x, y) in enumerate(list_of_tuples):\n",
      "        ln = plt.subplot(aspect[0],aspect[1], idx+1)\n",
      "        if plt_type == \"scatter\":\n",
      "            plt.scatter(x,y, c=cs)\n",
      "            x_ax = (\"%s\" % list_of_axes[idx][0])\n",
      "            y_ax = (\"%s\" % list_of_axes[idx][1])\n",
      "            nice_graph(x_ax, y_ax,  (\"%s vs %s\" % (x_ax, y_ax)))\n",
      "        elif plt_type == \"hist\":\n",
      "            plt.hist(x, bins=y[idx])\n",
      "            title = (\"%s\" % list_of_axes[idx])\n",
      "            num_bins = (\"%d\" % y[idx])\n",
      "            nice_graph(num_bins, \"\",  title)    \n",
      "    \n",
      "def matrix_bar_plot(list_of_tuples, aspect):\n",
      "    fg = plt.figure(figsize=(8,10))\n",
      "    adj = plt.subplots_adjust(hspace=1,wspace=1)\n",
      "    sp = plt.subplot(aspect[0],aspect[1],1)\n",
      "    for idx, (x, y) in enumerate(list_of_tuples):\n",
      "        ln = plt.subplot(aspect[0],aspect[1], idx+1)\n",
      "        plt.bar(x,y, align='center')\n",
      "        nice_graph(\"Position\", \"Expected Value\", (\"EV vs Pos (Number of Players = %d)\" % max(x)))\n",
      "        pylab.xticks(x, map(str, x))\n",
      "\n",
      "def get_ev_by_pos_and_num_players(df):\n",
      "    df['real_winnings'] = df.winnings - df.action\n",
      "    p = (df[['real_winnings', 'play', 'pos']]).astype(int).groupby(by=['play', 'pos'], as_index=False).mean()\n",
      "    return p\n",
      "    \n",
      "player_features = pd.DataFrame(columns=PLAYER_QUALITIES_COLUMNS)\n",
      "\n",
      "# pull player data from CSV\n",
      "all_player_hands = pd.DataFrame.from_csv(NUM_PLAYERS_PATH + \"all_players.csv\")\n",
      "\n",
      "all_player_hands.head()\n"
     ],
     "language": "python",
     "metadata": {},
     "outputs": [
      {
       "html": [
        "<div style=\"max-height:1000px;max-width:1500px;overflow:auto;\">\n",
        "<table border=\"1\" class=\"dataframe\">\n",
        "  <thead>\n",
        "    <tr style=\"text-align: right;\">\n",
        "      <th></th>\n",
        "      <th>Unnamed: 0.1</th>\n",
        "      <th>action</th>\n",
        "      <th>bankroll</th>\n",
        "      <th>c1</th>\n",
        "      <th>c2</th>\n",
        "      <th>flop</th>\n",
        "      <th>num_players</th>\n",
        "      <th>play</th>\n",
        "      <th>player</th>\n",
        "      <th>pos</th>\n",
        "      <th>prflop</th>\n",
        "      <th>river</th>\n",
        "      <th>timestamp</th>\n",
        "      <th>turn</th>\n",
        "      <th>winnings</th>\n",
        "    </tr>\n",
        "  </thead>\n",
        "  <tbody>\n",
        "    <tr>\n",
        "      <th>0</th>\n",
        "      <td>  33</td>\n",
        "      <td> 20</td>\n",
        "      <td>   160</td>\n",
        "      <td> XX</td>\n",
        "      <td> XX</td>\n",
        "      <td>  b</td>\n",
        "      <td> 2</td>\n",
        "      <td> 2</td>\n",
        "      <td>  Johnny</td>\n",
        "      <td> 1</td>\n",
        "      <td> Bc</td>\n",
        "      <td>  -</td>\n",
        "      <td> 986109383</td>\n",
        "      <td>  -</td>\n",
        "      <td>  30</td>\n",
        "    </tr>\n",
        "    <tr>\n",
        "      <th>1</th>\n",
        "      <td> 131</td>\n",
        "      <td> 10</td>\n",
        "      <td> 15229</td>\n",
        "      <td> XX</td>\n",
        "      <td> XX</td>\n",
        "      <td>  Q</td>\n",
        "      <td> 2</td>\n",
        "      <td> 2</td>\n",
        "      <td> pokibot</td>\n",
        "      <td> 2</td>\n",
        "      <td> Bk</td>\n",
        "      <td>  -</td>\n",
        "      <td> 986109383</td>\n",
        "      <td>  -</td>\n",
        "      <td>   0</td>\n",
        "    </tr>\n",
        "    <tr>\n",
        "      <th>2</th>\n",
        "      <td>   0</td>\n",
        "      <td> 50</td>\n",
        "      <td>  1000</td>\n",
        "      <td> 2h</td>\n",
        "      <td> 5d</td>\n",
        "      <td>  k</td>\n",
        "      <td> 2</td>\n",
        "      <td> 2</td>\n",
        "      <td>     ATM</td>\n",
        "      <td> 2</td>\n",
        "      <td> Bk</td>\n",
        "      <td>  b</td>\n",
        "      <td> 986109911</td>\n",
        "      <td>  c</td>\n",
        "      <td>  50</td>\n",
        "    </tr>\n",
        "    <tr>\n",
        "      <th>3</th>\n",
        "      <td>  34</td>\n",
        "      <td> 50</td>\n",
        "      <td>   170</td>\n",
        "      <td> 5h</td>\n",
        "      <td> 6h</td>\n",
        "      <td>  k</td>\n",
        "      <td> 2</td>\n",
        "      <td> 2</td>\n",
        "      <td>  Johnny</td>\n",
        "      <td> 1</td>\n",
        "      <td> Bc</td>\n",
        "      <td> kc</td>\n",
        "      <td> 986109911</td>\n",
        "      <td>  b</td>\n",
        "      <td>  50</td>\n",
        "    </tr>\n",
        "    <tr>\n",
        "      <th>4</th>\n",
        "      <td>   1</td>\n",
        "      <td> 60</td>\n",
        "      <td>  1000</td>\n",
        "      <td> Ac</td>\n",
        "      <td> 8d</td>\n",
        "      <td> kc</td>\n",
        "      <td> 2</td>\n",
        "      <td> 2</td>\n",
        "      <td>     ATM</td>\n",
        "      <td> 1</td>\n",
        "      <td> Bc</td>\n",
        "      <td> kc</td>\n",
        "      <td> 986109946</td>\n",
        "      <td> kc</td>\n",
        "      <td> 120</td>\n",
        "    </tr>\n",
        "  </tbody>\n",
        "</table>\n",
        "</div>"
       ],
       "metadata": {},
       "output_type": "pyout",
       "prompt_number": 22,
       "text": [
        "   Unnamed: 0.1  action  bankroll  c1  c2 flop  num_players  play   player  \\\n",
        "0            33      20       160  XX  XX    b            2     2   Johnny   \n",
        "1           131      10     15229  XX  XX    Q            2     2  pokibot   \n",
        "2             0      50      1000  2h  5d    k            2     2      ATM   \n",
        "3            34      50       170  5h  6h    k            2     2   Johnny   \n",
        "4             1      60      1000  Ac  8d   kc            2     2      ATM   \n",
        "\n",
        "   pos prflop river  timestamp turn  winnings  \n",
        "0    1     Bc     -  986109383    -        30  \n",
        "1    2     Bk     -  986109383    -         0  \n",
        "2    2     Bk     b  986109911    c        50  \n",
        "3    1     Bc    kc  986109911    b        50  \n",
        "4    1     Bc    kc  986109946   kc       120  "
       ]
      }
     ],
     "prompt_number": 22
    },
    {
     "cell_type": "heading",
     "level": 1,
     "metadata": {},
     "source": [
      "Part 0: Introduction to Poker"
     ]
    },
    {
     "cell_type": "heading",
     "level": 2,
     "metadata": {},
     "source": [
      "The Importance of Position"
     ]
    },
    {
     "cell_type": "heading",
     "level": 4,
     "metadata": {},
     "source": [
      "Below we have expected PnL plotted against position. As we can see, having later position is a significant advantage in Texas Hold'Em."
     ]
    },
    {
     "cell_type": "code",
     "collapsed": false,
     "input": [
      "ev_table = get_ev_by_pos_and_num_players(all_player_hands)\n",
      "graph = []\n",
      "\n",
      "for i in xrange(2, 11):\n",
      "    rel_entries = ev_table[ev_table.play == i]\n",
      "    graph.append((list(rel_entries['pos']), list(rel_entries['real_winnings'])))\n",
      "\n",
      "matrix_bar_plot(graph, [3,3])"
     ],
     "language": "python",
     "metadata": {},
     "outputs": [
      {
       "metadata": {},
       "output_type": "display_data",
       "png": "[encoded data removed]",
       "text": [
        "<matplotlib.figure.Figure at 0x10e7b6a90>"
       ]
      }
     ],
     "prompt_number": 23
    },
    {
     "cell_type": "heading",
     "level": 1,
     "metadata": {},
     "source": [
      "Part 1: Theoretical Hand Strength vs. Hand Expected Values"
     ]
    },
    {
     "cell_type": "heading",
     "level": 2,
     "metadata": {},
     "source": [
      "Get Theoretical Estimates of Hand Strength."
     ]
    },
    {
     "cell_type": "code",
     "collapsed": false,
     "input": [
      "# source of theoretical EVs is http://www.tightpoker.com/poker_hands.html\n",
      "# units are in big blinds, so we need to divide profit in our dataset by the size of the big blind\n",
      "\n",
      "# assume bigblind is 20 cents\n",
      "BIG_BLINDS = 0.2\n",
      "\n",
      "# theoretical EVs\n",
      "theoretical_hand_strength = {}\n",
      "\n",
      "th = pd.read_csv('theoretical_strengths.csv')\n",
      "th['score'] = th.win_pct + 0.5*th.tie_pct\n",
      "\n",
      "for i in xrange(len(th)):\n",
      "    theoretical_hand_strength[th.Cards[i]] = th.score[i]\n"
     ],
     "language": "python",
     "metadata": {},
     "outputs": []
    },
    {
     "cell_type": "heading",
     "level": 2,
     "metadata": {},
     "source": [
      "Use Data to Calculate EV by Hand"
     ]
    },
    {
     "cell_type": "code",
     "collapsed": false,
     "input": [
      "# dictionaries to handle T, J, Q, K, A\n",
      "card_to_val = {'T' : 10, 'J' : 11, 'Q' : 12, 'K' : 13, 'A' :14}\n",
      "val_to_card = {10 : 'T', 11 : 'J', 12 : 'Q', 13 : 'K', 14 : 'A'}\n",
      "\n",
      "def cards_to_key(cards):\n",
      "    card1 = cards[0]\n",
      "    card2 = cards[1]\n",
      "    \n",
      "    # get card values\n",
      "    card1_val = card_to_val.get(card1[0], card1[0])\n",
      "    card2_val = card_to_val.get(card2[0], card2[0])\n",
      "    \n",
      "    # get the max card value and min card value\n",
      "    max_val = max(int(card1_val), int(card2_val))\n",
      "    min_val = min(int(card1_val), int(card2_val))\n",
      "    \n",
      "    # get the suits\n",
      "    card1_suit = card1[1]\n",
      "    card2_suit = card2[1]\n",
      "    \n",
      "    # get the symbols for the max and min card\n",
      "    max_card_symbol = val_to_card.get(max_val, str(max_val))\n",
      "    min_card_symbol = val_to_card.get(min_val, str(min_val))\n",
      "    \n",
      "    # return the correct encoding\n",
      "    if max_card_symbol == min_card_symbol:\n",
      "        return max_card_symbol + min_card_symbol\n",
      "    elif card1_suit == card2_suit:\n",
      "        return max_card_symbol + min_card_symbol + 's'\n",
      "    else:\n",
      "        return max_card_symbol + min_card_symbol + 'o'\n"
     ],
     "language": "python",
     "metadata": {},
     "outputs": []
    },
    {
     "cell_type": "code",
     "collapsed": false,
     "input": [
      "empirical_hand_strength = {}\n",
      "\n",
      "players_with_hands = all_player_hands[all_player_hands.c1 != 'XX']\n",
      "\n",
      "players_with_hands['card_key'] = players_with_hands[['c1', 'c2']].apply(cards_to_key, axis = 1)\n",
      "\n",
      "players_with_hands['real_winnings'] = players_with_hands.winnings - players_with_hands.action\n",
      "\n",
      "cards_and_winnings = players_with_hands[['card_key', 'real_winnings']]\n",
      "cards_and_mean_winnings = cards_and_winnings.groupby(by=['card_key'], as_index = False).mean()\n",
      "cards_and_mean_winnings.head()\n",
      "\n",
      "for row_num in xrange(len(cards_and_mean_winnings)):\n",
      "    key = cards_and_mean_winnings.card_key[row_num]\n",
      "    val = cards_and_mean_winnings.real_winnings[row_num]\n",
      "    empirical_hand_strength[key] = val"
     ],
     "language": "python",
     "metadata": {},
     "outputs": []
    },
    {
     "cell_type": "heading",
     "level": 2,
     "metadata": {},
     "source": [
      "Plot Theoretical Values vs. Empirical Values"
     ]
    },
    {
     "cell_type": "code",
     "collapsed": false,
     "input": [
      "hand_keys = theoretical_hand_strength.keys()\n",
      "\n",
      "theoretical_hand_strengths = [theoretical_hand_strength[key] for key in hand_keys]\n",
      "empirical_hand_strengths = [empirical_hand_strength[key] for key in hand_keys]\n",
      "\n",
      "plt.scatter(theoretical_hand_strengths, empirical_hand_strengths)\n",
      "for i in xrange(len(hand_keys)):\n",
      "    plt.annotate(hand_keys[i], xy = (theoretical_hand_strengths[i], empirical_hand_strengths[i]))\n",
      "fig = plt.gcf()\n",
      "fig.set_size_inches(18.5,18.5)\n",
      "nice_graph('Theoretical Strength', 'Average Profit', 'Theoretical vs. Empirical Strength of Hands')\n",
      "plt.show()\n"
     ],
     "language": "python",
     "metadata": {},
     "outputs": []
    },
    {
     "cell_type": "heading",
     "level": 1,
     "metadata": {},
     "source": [
      "Part 2: Player Classification"
     ]
    },
    {
     "cell_type": "heading",
     "level": 2,
     "metadata": {},
     "source": [
      "2.1: Define Constants/Helper Functions/DataFrames Relevant to this Section"
     ]
    },
    {
     "cell_type": "code",
     "collapsed": false,
     "input": [
      "NUM_PLAYERS = 10\n",
      "\n",
      "NUM_K_MEANS_CLUSTERS = 2\n",
      "\n",
      "NUM_HAC_CLUSTERS = 2\n",
      "\n",
      "NUM_PCA_COMPS = 2\n",
      "\n",
      "MIN_NUM_HANDS = 10\n",
      "\n",
      "T_TEST_SIG_LVL = 0.15\n",
      "\n",
      "\n",
      "\"\"\" \n",
      "get_player_features takes the number of players and uses the initialized dictionary seriesDicts\n",
      "to get our feature matrix for clustring\n",
      "\"\"\"  \n",
      "def get_player_features(num_players):    \n",
      "    # Only consider players who've played at least 10 hands\n",
      "    playersInfo = pd.DataFrame.from_dict(seriesDicts[num_players])\n",
      "    playersInfo = playersInfo[playersInfo.hands > MIN_NUM_HANDS]\n",
      "\n",
      "    playersFeatures = pd.DataFrame()\n",
      "\n",
      "    # Add players\n",
      "    playersFeatures['player'] = playersInfo['player']\n",
      "\n",
      "    # Compute voluntary put into pot percentage (VPIP)\n",
      "    playersFeatures['VPIP'] = (playersInfo['hands'] - playersInfo['prflop_folds']) / playersInfo['hands']\n",
      "\n",
      "    # Compute preflop raise percentage (PFR)\n",
      "    playersFeatures['PFR'] = playersInfo['prflop_raises'] / playersInfo['hands']\n",
      "\n",
      "    # Compute percentage of hands won\n",
      "    playersFeatures['handsWon'] = playersInfo['positive'] / playersInfo['hands']\n",
      "\n",
      "    # Compute percentage of hands to showdown\n",
      "    playersFeatures['showdown'] = playersInfo['showdown'] / playersInfo['hands']\n",
      "\n",
      "    # Copy over aggression factor\n",
      "    playersFeatures['aggression'] = playersInfo['aggression']\n",
      "    \n",
      "    return playersFeatures\n",
      "\n",
      "\"\"\"\n",
      "conduct_t_test takes a value n = num_players and conducts a t-test comparing the\n",
      "average PnL of players in the aggressive cluster vs. passive cluster (uses k_means)\n",
      "\"\"\"\n",
      "def conduct_t_test(n):\n",
      "    # get rounds with n players\n",
      "    n_player_data = all_players[all_players.num_players == n]\n",
      "    \n",
      "    player_info = pd.DataFrame.from_dict(seriesDicts[n])\n",
      "    player_info = player_info[player_info.hands > 10]\n",
      "    \n",
      "    player_features = get_player_features(n)\n",
      "    \n",
      "    k_means = cluster.KMeans(2)\n",
      "    k_means.fit(player_features.ix[:,1:])\n",
      "    \n",
      "    if k_means.cluster_centers_[0][4] > k_means.cluster_centers_[1][4]:\n",
      "        aggr_player_class = 0\n",
      "    else:\n",
      "        aggr_player_class = 1\n",
      "        \n",
      "    pass_player_class = 1 - aggr_player_class\n",
      "\n",
      "    # calculate class labels\n",
      "    player_info['class'] = k_means.labels_\n",
      "    \n",
      "    # add class labels to DataFrame\n",
      "    n_player_data_with_class = pd.merge(n_player_data, player_info[['player', 'class']], on=['player'])\n",
      "    n_player_data_with_class['real_winnings'] = n_player_data_with_class.winnings - n_player_data_with_class.action\n",
      "    \n",
      "    # group by players to get mean PnL\n",
      "    grouped_data = n_player_data_with_class[['player', 'real_winnings', 'class']].groupby(by=['player'], as_index = False).mean()\n",
      "    \n",
      "    # separate DataFrames for agressive vs. passive players\n",
      "    aggr_player_data = grouped_data[grouped_data['class'] == aggr_player_class]\n",
      "    pass_player_data = grouped_data[grouped_data['class'] == pass_player_class]\n",
      "    return ttest_ind(aggr_player_data.real_winnings, pass_player_data.real_winnings, equal_var = False)"
     ],
     "language": "python",
     "metadata": {},
     "outputs": []
    },
    {
     "cell_type": "heading",
     "level": 2,
     "metadata": {},
     "source": [
      "2.2: Initialize Player Tables"
     ]
    },
    {
     "cell_type": "code",
     "collapsed": false,
     "input": [
      "# handsByTableSize is a dictionary that has all the hands for a certain Table Size:\n",
      "# key = num_players\n",
      "# value = all hands played on tables with num_players players\n",
      "handsByTableSize = {}\n",
      "\n",
      "# seriesDict is a dictionary that has aggregated player information:\n",
      "# key = num_players\n",
      "# value = dictionary where key = table header, value = list of the values under the table header\n",
      "seriesDicts = {}\n",
      "\n",
      "\n",
      "# loop over all possible num_players\n",
      "for i in xrange(2, 11):\n",
      "    # populate handsByMax\n",
      "    handsByMax[i] = all_players[all_players.num_players == i].groupby(\"player\")\n",
      "    \n",
      "    # populate seriesDicts with dictionary keys, values initalized to empty lists\n",
      "    seriesDicts[i] = { key: [] for key in PLAYER_QUALITIES_COLUMNS }\n",
      "\n",
      "# compute aggregate information by player for each series and add to seriesDicts[tableSize][columnHeader]\n",
      "for tableSize in handsByMax.keys():\n",
      "    playersDf = handsByMax[tableSize]\n",
      "    \n",
      "    # accept the appropriate dictionary in seriesDicts\n",
      "    series_dict = seriesDicts[tableSize]\n",
      "    \n",
      "    for idx, g in playersDf:       \n",
      "        # populate basic statistics\n",
      "        series_dict[\"player\"].append(g[\"player\"].tolist()[0])\n",
      "        series_dict[\"hands\"].append(len(g))\n",
      "        g[\"net\"] = g.winnings - g.action\n",
      "        series_dict[\"positive\"].append(len(g[g.net > 0]))\n",
      "        series_dict[\"zero\"].append(len(g[g.net == 0]))\n",
      "        series_dict[\"neg\"].append(len(g[g.net < 0]))\n",
      "        series_dict[\"showdown\"].append(len(g[~(g.c1.str.contains(\"XX\") & g.c2.str.contains(\"XX\"))]))\n",
      "        series_dict[\"post_flop\"].append(len(g[~g.prflop.str.contains(\"f\")]))\n",
      "        series_dict[\"winnings\"].append(g[\"net\"].sum())\n",
      "    \n",
      "        # Compute aggression factor = (bet + raise) / call\n",
      "        numPreflopBets = reduce(lambda acc, x: x.count('b') + acc, g.prflop.values, 0)\n",
      "        numPreflopRaises = reduce(lambda acc, x: x.count('r') + acc, g.prflop.values, 0)\n",
      "        numPreflopCalls = reduce(lambda acc, x: x.count('c') + acc, g.prflop.values, 0)\n",
      "        numFlopBets = reduce(lambda acc, x: x.count('b') + acc, g.flop.values, 0)\n",
      "        numFlopRaises = reduce(lambda acc, x: x.count('r') + acc, g.flop.values, 0)\n",
      "        numFlopCalls = reduce(lambda acc, x: x.count('c') + acc, g.flop.values, 0)\n",
      "        numTurnBets = reduce(lambda acc, x: x.count('b') + acc, g.turn.values, 0)\n",
      "        numTurnRaises = reduce(lambda acc, x: x.count('r') + acc, g.turn.values, 0)\n",
      "        numTurnCalls = reduce(lambda acc, x: x.count('c') + acc, g.turn.values, 0)\n",
      "        numRiverBets = reduce(lambda acc, x: x.count('b') + acc, g.river.values, 0)\n",
      "        numRiverRaises = reduce(lambda acc, x: x.count('r') + acc, g.river.values, 0)\n",
      "        numRiverCalls = reduce(lambda acc, x: x.count('c') + acc, g.river.values, 0)\n",
      "    \n",
      "        aggroFactor = float(numPreflopBets + numPreflopRaises + numFlopBets + numFlopRaises + numTurnBets \\\n",
      "                       + numTurnRaises + numRiverBets + numRiverRaises) \\\n",
      "                       / max(1, numPreflopCalls + numFlopCalls + numTurnCalls + numRiverCalls)\n",
      "    \n",
      "        series_dict[\"aggression\"].append(aggroFactor)\n",
      "    \n",
      "        # Number of times just folded preflop\n",
      "        numPreflopFolds = len(g[g.prflop.str.startswith(\"Bf\") | g.prflop.str.startswith(\"f\")])\n",
      "        series_dict[\"prflop_folds\"].append(numPreflopFolds)\n",
      "    \n",
      "        # Number of times raised preflop\n",
      "        numPreflopRaises = len(g[g.prflop.str.contains(\"r\")])\n",
      "        series_dict[\"prflop_raises\"].append(numPreflopRaises)"
     ],
     "language": "python",
     "metadata": {},
     "outputs": []
    },
    {
     "cell_type": "heading",
     "level": 1,
     "metadata": {},
     "source": [
      "Player Features"
     ]
    },
    {
     "cell_type": "code",
     "collapsed": false,
     "input": [
      "# make DataFrame out of aggregated player information contained in seriesDicts\n",
      "playersInfo = pd.DataFrame.from_dict(seriesDicts[NUM_PLAYERS])\n",
      "# only consider players that have played more than 10 hands\n",
      "playersInfo = playersInfo[playersInfo.hands > MIN_NUM_HANDS]\n",
      "\n",
      "# get our feature matrix\n",
      "playersFeatures = get_player_features(maxPlayers)\n",
      "\n",
      "# uncomment to print the head\n",
      "# playersFeatures.head()"
     ],
     "language": "python",
     "metadata": {},
     "outputs": []
    },
    {
     "cell_type": "heading",
     "level": 2,
     "metadata": {},
     "source": [
      "2.3: Exploratory Data Analysis"
     ]
    },
    {
     "cell_type": "code",
     "collapsed": false,
     "input": [
      "# get all of the players and see how they are distributed amongst our features\n",
      "l = filter(lambda x: x != \"player\", playersFeatures.columns)\n",
      "features = map(lambda x: (playersFeatures[x].tolist(), [10]*len(playersFeatures[x])), l)\n",
      "matrix_plot(features, [2,5], l, plt_type=\"hist\", fig_size=(20,8))"
     ],
     "language": "python",
     "metadata": {},
     "outputs": []
    },
    {
     "cell_type": "heading",
     "level": 2,
     "metadata": {},
     "source": [
      "2.4: Player Clustering"
     ]
    },
    {
     "cell_type": "heading",
     "level": 4,
     "metadata": {},
     "source": [
      "In this section, we try three clustering/dimensionality reduction algorithms (i.e. K-Means, PCA, HAC) to cluster our data"
     ]
    },
    {
     "cell_type": "heading",
     "level": 3,
     "metadata": {},
     "source": [
      "2.4.1: K-Means"
     ]
    },
    {
     "cell_type": "code",
     "collapsed": false,
     "input": [
      "k_means = cluster.KMeans(NUM_K_MEANS_CLUSTERS)\n",
      "k_means.fit(playersFeatures.ix[:,1:])\n",
      "\n",
      "cluster_centers = pd.DataFrame(columns = playersFeatures.columns[1:])\n",
      "\n",
      "curr_row = 0\n",
      "for center in k_means.cluster_centers_:\n",
      "    cluster_centers.loc[curr_row] = center\n",
      "    curr_row += 1\n",
      "\n",
      "cluster_centers.head()\n"
     ],
     "language": "python",
     "metadata": {},
     "outputs": []
    },
    {
     "cell_type": "code",
     "collapsed": false,
     "input": [
      "# Get all pairs of features and examine how differenciated our clusters are\n",
      "l = filter(lambda x: x != \"player\", playersFeatures.columns)\n",
      "l = list(itertools.combinations(l, r=2))\n",
      "features = map(lambda x: (playersFeatures[x[0]].tolist(), playersFeatures[x[1]].tolist()), l)\n",
      "matrix_plot(features, [3,4], l, cs=k_means.labels_)"
     ],
     "language": "python",
     "metadata": {},
     "outputs": []
    },
    {
     "cell_type": "heading",
     "level": 3,
     "metadata": {},
     "source": [
      "2.4.2: Principal Component Analysis"
     ]
    },
    {
     "cell_type": "heading",
     "level": 4,
     "metadata": {},
     "source": [
      "In this section, we conduct principal component analysis to identify the two feature vectors that maximizes the differences between the players' playing styles. Our results show that aggression and voluntary put into pot (VPIP), which is similar to proportion of hands played, are the main dimensions that separate playing styles."
     ]
    },
    {
     "cell_type": "code",
     "collapsed": false,
     "input": [
      "# Training data\n",
      "X = playersFeatures.ix[:, 1:]\n",
      "\n",
      "# Compute PCA\n",
      "svd = sklearn.decomposition.TruncatedSVD(n_components=NUM_PCA_COMPS, random_state=42)\n",
      "svd.fit(X)\n",
      "\n",
      "# Project\n",
      "projections = np.dot(X, np.transpose(svd.components_))\n",
      "\n",
      "# create DataFrame of principal components\n",
      "principal_components = pd.DataFrame(columns = playersFeatures.columns[1:])\n",
      "\n",
      "for i in xrange(NUM_PCA_COMPS):\n",
      "    principal_components.loc[i] = svd.components_[i]\n",
      "\n",
      "# Use k_means labels to plot\n",
      "matrix_plot([(projections[:,0], projections[:,1])], [5,2], [[\"PC1\", \"PC2\"]], cs=k_means.labels_)\n",
      "# Show DataFrame of principal components\n",
      "principal_components.head()"
     ],
     "language": "python",
     "metadata": {},
     "outputs": []
    },
    {
     "cell_type": "heading",
     "level": 3,
     "metadata": {},
     "source": [
      "2.4.3: Hierarchical Agglomerative Clustering (Mark)"
     ]
    },
    {
     "cell_type": "heading",
     "level": 4,
     "metadata": {},
     "source": [
      "In this section, we use Hierarchical Agglomerative Clustering to cluster our players. This method does not seem to achieve very good separation."
     ]
    },
    {
     "cell_type": "code",
     "collapsed": false,
     "input": [
      "# your code here\n",
      "from sklearn.cluster import AgglomerativeClustering\n",
      "\n",
      "hac_classifier = AgglomerativeClustering(n_clusters = 2, affinity = 'manhattan', linkage = 'average', \\\n",
      "                                                 pooling_func = np.mean)\n",
      "hac_classifier.fit(playersFeatures[['VPIP', 'PFR', 'handsWon', 'showdown', 'aggression']])\n",
      "matrix_plot(features, [5,2], l, cs=hac_classifier.labels_)\n"
     ],
     "language": "python",
     "metadata": {},
     "outputs": []
    },
    {
     "cell_type": "heading",
     "level": 2,
     "metadata": {},
     "source": [
      "2.5: Boxplots of PnLs by Cluster (using the K-Means Clusters)"
     ]
    },
    {
     "cell_type": "code",
     "collapsed": false,
     "input": [
      "# Determine the class of each player\n",
      "playersInfo[\"class\"] = k_means.labels_\n",
      "\n",
      "# Determine the number of people in each class\n",
      "print \"Number of players in each class:\"\n",
      "print playersInfo.groupby(\"class\").player.count()\n",
      "print \"\\n\"\n",
      "\n",
      "# Determine the number of hands played in each class\n",
      "print \"Total number of hands played by each class:\"\n",
      "print playersInfo.groupby(\"class\").hands.sum()\n",
      "print \"\\n\"\n",
      "\n",
      "# Determine the average pnl of each player\n",
      "playersInfo[\"avgPnl\"] = playersInfo[\"winnings\"] / playersInfo[\"hands\"]\n",
      "\n",
      "# Determine groups\n",
      "boxNames = [\"aggressive\", \"passive\"]\n",
      "boxOrder = []\n",
      "\n",
      "if k_means.cluster_centers_[0][4] > k_means.cluster_centers_[1][4]:\n",
      "    boxOrder = [0, 1]\n",
      "else:\n",
      "    boxOrder = [1, 0]\n",
      "\n",
      "\n",
      "graph = sns.boxplot(playersInfo.avgPnl, groupby=playersInfo[\"class\"], names=boxNames, order=boxOrder)\n",
      "\n",
      "# Adjust y limit\n",
      "plt.ylim([-50, 50])\n",
      "plt.title(\"Boxplot of Aggressive vs Passive Players\")\n",
      "plt.show()"
     ],
     "language": "python",
     "metadata": {},
     "outputs": []
    },
    {
     "cell_type": "heading",
     "level": 2,
     "metadata": {},
     "source": [
      "2.6: Trends with Number of Players"
     ]
    },
    {
     "cell_type": "heading",
     "level": 3,
     "metadata": {},
     "source": [
      "For this, look in player_classification_2.ipynb. Zach, can you try to incorporate your stuff here on trends with number of players (i.e. all the line charts) here? I'm working on the other sections"
     ]
    },
    {
     "cell_type": "code",
     "collapsed": false,
     "input": [
      "# ZACH PUT YOUR CODE IN THIS SECTION"
     ],
     "language": "python",
     "metadata": {},
     "outputs": [],
     "prompt_number": 11
    },
    {
     "cell_type": "heading",
     "level": 2,
     "metadata": {},
     "source": [
      "2.7: T-Test for Aggressive vs. Passive Players"
     ]
    },
    {
     "cell_type": "heading",
     "level": 4,
     "metadata": {},
     "source": [
      "Nick, you can use this description for the website:"
     ]
    },
    {
     "cell_type": "heading",
     "level": 5,
     "metadata": {},
     "source": [
      "Previously, our clustering algorithms separated players into clusters representing aggressive and passive players. In this section, we conduct T-tests to determine whether there is a statistically significant difference between the Average Profit and Loss (PnL) of aggressive players vs. those of passive players. At the 0.15 significance level, we find that there is a significant difference for 4, 6, and 7 player games. For 4 player games, the passive playes do significantly better, where in 6 and 7 player games, the aggressive players do significantly better. Overall, it's difficult for us to come to meaningful conclusions about which play style is better. This is likely because we don't have enough data points and so the variances of player performance are quite high.\n"
     ]
    },
    {
     "cell_type": "code",
     "collapsed": false,
     "input": [
      "# NOTE: this analysis does it for all numbers of players in one go. it does not depend on NUM_PLAYERS\n",
      "\n",
      "# DataFrame to store results\n",
      "ttest_results = pd.DataFrame(columns=['num_players', 'test_statistic', 'p-value', 'significant'])\n",
      "curr_row = 0\n",
      "\n",
      "for i in xrange(2, 11):\n",
      "    result = conduct_t_test(i)\n",
      "    \n",
      "    # add in whether significant or not\n",
      "    significant = 'Yes' if result[1] < T_TEST_SIG_LVL else 'No'\n",
      "    entry = [i, result[0], result[1], significant]\n",
      "    \n",
      "    ttest_results.loc[curr_row] = entry\n",
      "    curr_row += 1\n",
      "    \n",
      "ttest_results.head(0)"
     ],
     "language": "python",
     "metadata": {},
     "outputs": []
    },
    {
     "cell_type": "heading",
     "level": 1,
     "metadata": {},
     "source": [
      "Part 3: Expected Value of Continuation Betting and Three-Betting"
     ]
    },
    {
     "cell_type": "heading",
     "level": 2,
     "metadata": {},
     "source": [
      "Continuation Betting"
     ]
    },
    {
     "cell_type": "heading",
     "level": 3,
     "metadata": {},
     "source": [
      "Create a DataFrame of Continuation Betters"
     ]
    },
    {
     "cell_type": "code",
     "collapsed": false,
     "input": [
      "def find_last_raise(string):\n",
      "    \"\"\"\n",
      "    defined for use in cont_bet_filter. finds the last betting round that a raised happened given\n",
      "    the string encoding a players actions, e.g. \"Bcr\" -> 2\n",
      "    \"\"\"\n",
      "    return string.rfind('r')\n",
      "\n",
      "def cont_bet_filter(df):\n",
      "    \"\"\"\n",
      "    returns a dataframe containing only continuation bets from the DataFrame df\n",
      "    \"\"\"\n",
      "    # remove duplicate timestamps\n",
      "    timestamp_set = list(set(df['timestamp']))\n",
      "\n",
      "    # create DataFrame with headers the same as for rounds\n",
      "    cbets = pd.DataFrame(columns = df.columns.values)\n",
      "\n",
      "    curr_row = 0\n",
      "    \n",
      "    for timestamp in timestamp_set:\n",
      "        \n",
      "        # get all entries associated with one hand/round\n",
      "        curr_hand = df[df.timestamp == timestamp]\n",
      "                \n",
      "        # prflop_score lets us determine who the preflop raiser is. it takes the latest round of betting (0-indexed)\n",
      "        # that someone raised and adds to it the player's position divided by 20\n",
      "        # the player with the highest prflop_score greater than 0 is the preflop raiser\n",
      "        # e.g. if BigBlind has actions 'Bcr', prflop_score will be 2.1 because latest raise was on 2nd round and he's\n",
      "        # position 2. the position is divided by 20 because we only care about position if the latest bet of two players\n",
      "        #is on the same round, and in this case, the higher position is the preflop raiser\n",
      "        # dividing by 20 means we never add something >= 1\n",
      "        curr_hand['prflop_score'] = curr_hand['prflop'].apply(find_last_raise) + (curr_hand['pos'] )/20.0\n",
      "        \n",
      "        # if the max prflop_score is less than 0, there is no preflop raiser\n",
      "        if curr_hand['prflop_score'].max() > 0:\n",
      "            \n",
      "            # get the preflop raiser\n",
      "            prflop_raiser_index = curr_hand['prflop_score'].argmax()\n",
      "            prflop_raiser = curr_hand.loc[prflop_raiser_index]\n",
      "            \n",
      "            # NEED TO FIX ALL INS\n",
      "            # if the preflop raiser bets on the flop, he is a c-better and we add him to the cbets DataFrame\n",
      "            if prflop_raiser['flop'].find('b') == 0 or prflop_raiser['flop'].find('A') == 0:\n",
      "                cbets.loc[curr_row] = prflop_raiser\n",
      "                curr_row += 1\n",
      "    return cbets\n",
      "\n",
      "cont_bets = cont_bet_filter(all_player_hands)\n",
      "cont_bets['real_winnings'] = cont_bets.winnings - cont_bets.action"
     ],
     "language": "python",
     "metadata": {},
     "outputs": [],
     "prompt_number": 6
    },
    {
     "cell_type": "heading",
     "level": 3,
     "metadata": {},
     "source": [
      "Calculate the Expected PnL for Continuation Betters"
     ]
    },
    {
     "cell_type": "code",
     "collapsed": false,
     "input": [
      "print 'Average PnL for Continuation Betters is', cont_bets.real_winnings.mean()"
     ],
     "language": "python",
     "metadata": {},
     "outputs": [
      {
       "output_type": "stream",
       "stream": "stdout",
       "text": [
        "Average PnL for Continuation Betters is 19.6355489171\n"
       ]
      }
     ],
     "prompt_number": 10
    },
    {
     "cell_type": "heading",
     "level": 3,
     "metadata": {},
     "source": [
      "Bar Charts for Profitabiliy of Continuation Betting by Number of Players and Position"
     ]
    },
    {
     "cell_type": "code",
     "collapsed": false,
     "input": [
      "ev_table = get_ev_by_pos_and_num_players(cont_bets)\n",
      "graph = []\n",
      "\n",
      "for i in xrange(2, 11):\n",
      "    rel_entries = ev_table[ev_table.play == i]\n",
      "    graph.append((list(rel_entries['pos']), list(rel_entries['real_winnings'])))\n",
      "\n",
      "matrix_bar_plot(graph, [3,3])"
     ],
     "language": "python",
     "metadata": {},
     "outputs": [
      {
       "metadata": {},
       "output_type": "display_data",
       "png": "[encoded data removed]",
       "text": [
        "<matplotlib.figure.Figure at 0x10643c4d0>"
       ]
      }
     ],
     "prompt_number": 13
    },
    {
     "cell_type": "heading",
     "level": 2,
     "metadata": {},
     "source": [
      "Create a DataFrame of Three-Betters"
     ]
    },
    {
     "cell_type": "code",
     "collapsed": false,
     "input": [
      "def contains_raise_or_all_in(s):\n",
      "    return \"r\" in s or \"A\" in s\n",
      "\n",
      "# Filter by three bet Pre Flop\n",
      "def three_bet_in_hand(df):\n",
      "    df = df.sort([\"pos\"])\n",
      "    two_raises = 2\n",
      "    for ind, row in df.iterrows():\n",
      "        if contains_raise_or_all_in(row.prflop):\n",
      "            two_raises = two_raises - 1\n",
      "        if two_raises == 0:\n",
      "            return row\n",
      "    return []\n",
      "\n",
      "def three_bet_filter(df):\n",
      "    # remove duplicate timestamps\n",
      "    timestamp_set = list(set(df['timestamp']))\n",
      "\n",
      "    # create DataFrame with headers the same as for rounds\n",
      "    three_bets = pd.DataFrame(columns = df.columns.values)\n",
      "\n",
      "    curr_row = 0\n",
      "    \n",
      "    for timestamp in timestamp_set:\n",
      "        curr_hand = df[df.timestamp == timestamp]\n",
      "        three_better = three_bet_in_hand(curr_hand)\n",
      "        if len(three_better) > 0:\n",
      "            three_bets.loc[curr_row] = three_better\n",
      "            curr_row += 1\n",
      "    return three_bets\n",
      "\n",
      "three_bets = three_bet_filter(all_player_hands) \n",
      "three_bets['real_winnings'] = three_bets.winnings - three_bets.action"
     ],
     "language": "python",
     "metadata": {},
     "outputs": [],
     "prompt_number": 15
    },
    {
     "cell_type": "heading",
     "level": 3,
     "metadata": {},
     "source": [
      "Calculate the Expected PnL for Three Betters"
     ]
    },
    {
     "cell_type": "code",
     "collapsed": false,
     "input": [
      "print 'Average PnL for Three Betters is', three_bets.real_winnings.mean()"
     ],
     "language": "python",
     "metadata": {},
     "outputs": [
      {
       "output_type": "stream",
       "stream": "stdout",
       "text": [
        "Average PnL for Three Betters is 8.77161547213\n"
       ]
      }
     ],
     "prompt_number": 19
    },
    {
     "cell_type": "heading",
     "level": 3,
     "metadata": {},
     "source": [
      "Bar Charts for Profitabiliy of Three-Betting by Number of Players and Position"
     ]
    },
    {
     "cell_type": "code",
     "collapsed": false,
     "input": [
      "ev_table = get_ev_by_pos_and_num_players(three_bets)\n",
      "graph = []\n",
      "\n",
      "for i in xrange(2, 11):\n",
      "    rel_entries = ev_table[ev_table.play == i]\n",
      "    graph.append((list(rel_entries['pos']), list(rel_entries['real_winnings'])))\n",
      "\n",
      "matrix_bar_plot(graph, [3,3])"
     ],
     "language": "python",
     "metadata": {},
     "outputs": [
      {
       "metadata": {},
       "output_type": "display_data",
       "png": "[encoded data removed]",
       "text": [
        "<matplotlib.figure.Figure at 0x10c4ef390>"
       ]
      }
     ],
     "prompt_number": 20
    },
    {
     "cell_type": "code",
     "collapsed": false,
     "input": [],
     "language": "python",
     "metadata": {},
     "outputs": []
    }
   ],
   "metadata": {}
  }
 ]
}