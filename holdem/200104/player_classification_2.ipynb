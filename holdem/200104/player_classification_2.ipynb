{
 "metadata": {
  "name": "",
  "signature": "sha256:29c9d3884a1f52ecb1209f14e2bcf7a8758607a4535126037f71e784417cf0cc"
 },
 "nbformat": 3,
 "nbformat_minor": 0,
 "worksheets": [
  {
   "cells": [
    {
     "cell_type": "code",
     "collapsed": false,
     "input": [
      "%matplotlib inline \n",
      "import pandas as pd\n",
      "import numpy as np\n",
      "import matplotlib.pyplot as plt\n",
      "import collections\n",
      "import pprint\n",
      "pp = pprint.PrettyPrinter(indent=8)\n",
      "import pylab\n",
      "from nick_proj.script import get_data\n",
      "import itertools\n",
      "import sklearn\n",
      "import sklearn.datasets\n",
      "import sklearn.cross_validation\n",
      "import sklearn.decomposition\n",
      "import sklearn.grid_search\n",
      "import sklearn.neighbors\n",
      "import sklearn.metrics"
     ],
     "language": "python",
     "metadata": {},
     "outputs": [],
     "prompt_number": 254
    },
    {
     "cell_type": "markdown",
     "metadata": {},
     "source": [
      "# Player Classification"
     ]
    },
    {
     "cell_type": "code",
     "collapsed": false,
     "input": [
      "NUM_PLAYERS_PATH = \"../../num_players_to_df/\"\n",
      "\n",
      "NUM_CLUSTERS = 2\n",
      "\n",
      "R = xrange(2, 11)\n",
      "\n",
      "MIN_NUM_HANDS = 10\n",
      "\n",
      "PLAYER_QUALITIES_COLUMNS = [\"player\", \"hands\", \"showdown\", \"post_flop\", \"positive\", \"zero\", \"neg\", \\\n",
      "                            \"winnings\", \"aggression\", \"prflop_folds\", \"prflop_raises\"]\n",
      "\n",
      "def nice_graph(xlab, ylab, title):\n",
      "    plt.xlabel(xlab)\n",
      "    plt.ylabel(ylab)\n",
      "    plt.title(title)\n",
      "\n",
      "player_features = pd.DataFrame(columns=PLAYER_QUALITIES_COLUMNS)"
     ],
     "language": "python",
     "metadata": {},
     "outputs": [],
     "prompt_number": 255
    },
    {
     "cell_type": "markdown",
     "metadata": {},
     "source": [
      "## Initialize Dictionary of Number of Players to DF"
     ]
    },
    {
     "cell_type": "code",
     "collapsed": false,
     "input": [
      "# Read in entire data frame\n",
      "all_players = pd.DataFrame.from_csv(NUM_PLAYERS_PATH + \"all_players.csv\")\n",
      "\n",
      "# Set up dictionary\n",
      "num_p_to_raw = {df.num_players.values[0]: df for idx, df in all_players.groupby(\"num_players\")}\n",
      "\n",
      "# Show head\n",
      "num_p_to_raw[2].head()"
     ],
     "language": "python",
     "metadata": {},
     "outputs": [
      {
       "html": [
        "<div style=\"max-height:1000px;max-width:1500px;overflow:auto;\">\n",
        "<table border=\"1\" class=\"dataframe\">\n",
        "  <thead>\n",
        "    <tr style=\"text-align: right;\">\n",
        "      <th></th>\n",
        "      <th>Unnamed: 0.1</th>\n",
        "      <th>action</th>\n",
        "      <th>bankroll</th>\n",
        "      <th>c1</th>\n",
        "      <th>c2</th>\n",
        "      <th>flop</th>\n",
        "      <th>num_players</th>\n",
        "      <th>play</th>\n",
        "      <th>player</th>\n",
        "      <th>pos</th>\n",
        "      <th>prflop</th>\n",
        "      <th>river</th>\n",
        "      <th>timestamp</th>\n",
        "      <th>turn</th>\n",
        "      <th>winnings</th>\n",
        "    </tr>\n",
        "  </thead>\n",
        "  <tbody>\n",
        "    <tr>\n",
        "      <th>0</th>\n",
        "      <td>  33</td>\n",
        "      <td> 20</td>\n",
        "      <td>   160</td>\n",
        "      <td> XX</td>\n",
        "      <td> XX</td>\n",
        "      <td>  b</td>\n",
        "      <td> 2</td>\n",
        "      <td> 2</td>\n",
        "      <td>  Johnny</td>\n",
        "      <td> 1</td>\n",
        "      <td> Bc</td>\n",
        "      <td>  -</td>\n",
        "      <td> 986109383</td>\n",
        "      <td>  -</td>\n",
        "      <td>  30</td>\n",
        "    </tr>\n",
        "    <tr>\n",
        "      <th>1</th>\n",
        "      <td> 131</td>\n",
        "      <td> 10</td>\n",
        "      <td> 15229</td>\n",
        "      <td> XX</td>\n",
        "      <td> XX</td>\n",
        "      <td>  Q</td>\n",
        "      <td> 2</td>\n",
        "      <td> 2</td>\n",
        "      <td> pokibot</td>\n",
        "      <td> 2</td>\n",
        "      <td> Bk</td>\n",
        "      <td>  -</td>\n",
        "      <td> 986109383</td>\n",
        "      <td>  -</td>\n",
        "      <td>   0</td>\n",
        "    </tr>\n",
        "    <tr>\n",
        "      <th>2</th>\n",
        "      <td>   0</td>\n",
        "      <td> 50</td>\n",
        "      <td>  1000</td>\n",
        "      <td> 2h</td>\n",
        "      <td> 5d</td>\n",
        "      <td>  k</td>\n",
        "      <td> 2</td>\n",
        "      <td> 2</td>\n",
        "      <td>     ATM</td>\n",
        "      <td> 2</td>\n",
        "      <td> Bk</td>\n",
        "      <td>  b</td>\n",
        "      <td> 986109911</td>\n",
        "      <td>  c</td>\n",
        "      <td>  50</td>\n",
        "    </tr>\n",
        "    <tr>\n",
        "      <th>3</th>\n",
        "      <td>  34</td>\n",
        "      <td> 50</td>\n",
        "      <td>   170</td>\n",
        "      <td> 5h</td>\n",
        "      <td> 6h</td>\n",
        "      <td>  k</td>\n",
        "      <td> 2</td>\n",
        "      <td> 2</td>\n",
        "      <td>  Johnny</td>\n",
        "      <td> 1</td>\n",
        "      <td> Bc</td>\n",
        "      <td> kc</td>\n",
        "      <td> 986109911</td>\n",
        "      <td>  b</td>\n",
        "      <td>  50</td>\n",
        "    </tr>\n",
        "    <tr>\n",
        "      <th>4</th>\n",
        "      <td>   1</td>\n",
        "      <td> 60</td>\n",
        "      <td>  1000</td>\n",
        "      <td> Ac</td>\n",
        "      <td> 8d</td>\n",
        "      <td> kc</td>\n",
        "      <td> 2</td>\n",
        "      <td> 2</td>\n",
        "      <td>     ATM</td>\n",
        "      <td> 1</td>\n",
        "      <td> Bc</td>\n",
        "      <td> kc</td>\n",
        "      <td> 986109946</td>\n",
        "      <td> kc</td>\n",
        "      <td> 120</td>\n",
        "    </tr>\n",
        "  </tbody>\n",
        "</table>\n",
        "</div>"
       ],
       "metadata": {},
       "output_type": "pyout",
       "prompt_number": 256,
       "text": [
        "   Unnamed: 0.1  action  bankroll  c1  c2 flop  num_players  play   player  \\\n",
        "0            33      20       160  XX  XX    b            2     2   Johnny   \n",
        "1           131      10     15229  XX  XX    Q            2     2  pokibot   \n",
        "2             0      50      1000  2h  5d    k            2     2      ATM   \n",
        "3            34      50       170  5h  6h    k            2     2   Johnny   \n",
        "4             1      60      1000  Ac  8d   kc            2     2      ATM   \n",
        "\n",
        "   pos prflop river  timestamp turn  winnings  \n",
        "0    1     Bc     -  986109383    -        30  \n",
        "1    2     Bk     -  986109383    -         0  \n",
        "2    2     Bk     b  986109911    c        50  \n",
        "3    1     Bc    kc  986109911    b        50  \n",
        "4    1     Bc    kc  986109946   kc       120  "
       ]
      }
     ],
     "prompt_number": 256
    },
    {
     "cell_type": "markdown",
     "metadata": {},
     "source": [
      "## Generate Player Feature Table for each num_players dataframe"
     ]
    },
    {
     "cell_type": "markdown",
     "metadata": {},
     "source": [
      "Given a player dataframe, insert one row into the dictionary mapping columns names to values"
     ]
    },
    {
     "cell_type": "code",
     "collapsed": false,
     "input": [
      "def init_row(series_dict, g):\n",
      "    # Get the players name\n",
      "    series_dict[\"player\"].append(g[\"player\"].tolist()[0])\n",
      "    # Get the number of hands they played\n",
      "    series_dict[\"hands\"].append(len(g))\n",
      "    # Get thier pnl for each hand\n",
      "    g[\"net\"] = g.winnings - g.action\n",
      "    # Count the number of times they won money\n",
      "    series_dict[\"positive\"].append(len(g[g.net > 0]))\n",
      "    # Broke even\n",
      "    series_dict[\"zero\"].append(len(g[g.net == 0]))\n",
      "    # Lost money\n",
      "    series_dict[\"neg\"].append(len(g[g.net < 0]))\n",
      "    # Number of times that they went to showdown\n",
      "    series_dict[\"showdown\"].append(len(g[~(g.c1.str.contains(\"XX\") & g.c2.str.contains(\"XX\"))]))\n",
      "    # Number of times they made it to the flop\n",
      "    series_dict[\"post_flop\"].append(len(g[~g.prflop.str.contains(\"f\")]))\n",
      "    # Total winnings\n",
      "    # TODO: RENAME THIS IT IS VERY CONFUSING BECAUSE THE ORIGINAL DF ALSO HAS A WINNINGS COLUMN\n",
      "    series_dict[\"winnings\"].append(g[\"net\"].sum())\n",
      "\n",
      "    # Compute aggression factor = (bet + raise) / call\n",
      "    numPreflopBets = reduce(lambda acc, x: x.count('b') + acc, g.prflop.values, 0)\n",
      "    numPreflopRaises = reduce(lambda acc, x: x.count('r') + acc, g.prflop.values, 0)\n",
      "    numPreflopCalls = reduce(lambda acc, x: x.count('c') + acc, g.prflop.values, 0)\n",
      "    numFlopBets = reduce(lambda acc, x: x.count('b') + acc, g.flop.values, 0)\n",
      "    numFlopRaises = reduce(lambda acc, x: x.count('r') + acc, g.flop.values, 0)\n",
      "    numFlopCalls = reduce(lambda acc, x: x.count('c') + acc, g.flop.values, 0)\n",
      "    numTurnBets = reduce(lambda acc, x: x.count('b') + acc, g.turn.values, 0)\n",
      "    numTurnRaises = reduce(lambda acc, x: x.count('r') + acc, g.turn.values, 0)\n",
      "    numTurnCalls = reduce(lambda acc, x: x.count('c') + acc, g.turn.values, 0)\n",
      "    numRiverBets = reduce(lambda acc, x: x.count('b') + acc, g.river.values, 0)\n",
      "    numRiverRaises = reduce(lambda acc, x: x.count('r') + acc, g.river.values, 0)\n",
      "    numRiverCalls = reduce(lambda acc, x: x.count('c') + acc, g.river.values, 0)\n",
      "\n",
      "    # Total number of bets and raises over total number of calls\n",
      "    aggroFactor = float(numPreflopBets + numPreflopRaises + numFlopBets + numFlopRaises + numTurnBets \\\n",
      "                   + numTurnRaises + numRiverBets + numRiverRaises) \\\n",
      "                   / max(1, numPreflopCalls + numFlopCalls + numTurnCalls + numRiverCalls)\n",
      "\n",
      "    series_dict[\"aggression\"].append(aggroFactor)\n",
      "\n",
      "    # Number of times just folded preflop\n",
      "    numPreflopFolds = len(g[g.prflop.str.startswith(\"Bf\") | g.prflop.str.startswith(\"f\")])\n",
      "    series_dict[\"prflop_folds\"].append(numPreflopFolds)\n",
      "\n",
      "    # Number of times raised preflop\n",
      "    numPreflopRaises = len(g[g.prflop.str.contains(\"r\")])\n",
      "    series_dict[\"prflop_raises\"].append(numPreflopRaises)"
     ],
     "language": "python",
     "metadata": {},
     "outputs": []
    },
    {
     "cell_type": "code",
     "collapsed": false,
     "input": [
      "num_p_to_info = {x : pd.DataFrame() for x in R}\n",
      "\n",
      "for key, value in num_p_to_df.iteritems():\n",
      "    # For each table size group by player name\n",
      "    tmp = value.groupby([\"player\"])\n",
      "    # Create dictionary to hold rows\n",
      "    series_dict = {c: [] for c in PLAYER_QUALITIES_COLUMNS}\n",
      "    # Add row for each player\n",
      "    for idx, g in tmp:\n",
      "        init_row(series_dict, g)\n",
      "\n",
      "    num_p_to_info[key] = pd.DataFrame.from_dict(series_dict)\n",
      "\n",
      "# Remove players who played less than MIN_NUM_HANDS\n",
      "for key, value in num_p_to_info.iteritems():\n",
      "    num_p_to_info[key] = value[value.hands > MIN_NUM_HANDS]\n",
      "\n",
      "num_p_to_info[2].head()"
     ],
     "language": "python",
     "metadata": {},
     "outputs": []
    },
    {
     "cell_type": "heading",
     "level": 1,
     "metadata": {},
     "source": [
      "Player Features"
     ]
    },
    {
     "cell_type": "code",
     "collapsed": false,
     "input": [
      "num_p_to_features = {x : pd.DataFrame() for x in R}\n",
      "\n",
      "for key, value in num_p_to_info.iteritems():\n",
      "    playerFeatures = pd.DataFrame()\n",
      "\n",
      "    # Add players\n",
      "    playerFeatures['player'] = value['player']\n",
      "\n",
      "    # Compute voluntary put into pot percentage (VPIP)\n",
      "    playerFeatures['VPIP'] = (value['hands'] - value['prflop_folds']) / value['hands']\n",
      "\n",
      "    # Compute preflop raise percentage (PFR)\n",
      "    playerFeatures['PFR'] = value['prflop_raises'] / value['hands']\n",
      "\n",
      "    # Compute percentage of hands won\n",
      "    playerFeatures['handsWon'] = value['positive'] / value['hands']\n",
      "\n",
      "    # Compute percentage of hands to showdown\n",
      "    playerFeatures['showdown'] = value['showdown'] / value['hands']\n",
      "\n",
      "    # Copy over aggression factor\n",
      "    playerFeatures['aggression'] = value['aggression']\n",
      "\n",
      "    num_p_to_features[key] = playerFeatures\n",
      "\n",
      "num_p_to_features[2].head()"
     ],
     "language": "python",
     "metadata": {},
     "outputs": []
    },
    {
     "cell_type": "markdown",
     "metadata": {},
     "source": [
      "## Cluster Players"
     ]
    },
    {
     "cell_type": "code",
     "collapsed": false,
     "input": [
      "\n",
      "# cluster the players into three groups\n",
      "from sklearn import cluster\n",
      "k_means = cluster.KMeans(NUM_CLUSTERS)\n",
      "for key, value in num_p_to_features.iteritems():\n",
      "    k_means.fit(value.ix[:,1:])\n",
      "    value[\"cluster\"] = k_means.labels_\n",
      "    num_p_to_features[key] = value\n",
      "    print(\"Cluster Centers : Number of Players = %d\" % key)\n",
      "    print(k_means.cluster_centers_)\n",
      "    print(\"-\"*80)\n",
      "num_p_to_features[2].head()"
     ],
     "language": "python",
     "metadata": {},
     "outputs": []
    },
    {
     "cell_type": "code",
     "collapsed": false,
     "input": [
      "\"\"\"\n",
      "Function which plots multiple scatter / histogram graphs\n",
      "Given a list of tuples (x,y) make graphs\n",
      "\"\"\"\n",
      "def matrix_plot(list_of_tuples, aspect, list_of_axes, plt_type=\"scatter\", fig_size=(20,20), cs=[1], plotBestFit=False):\n",
      "    colors = iter(['Yellow','black', 'Red', 'Yellow'])\n",
      "    c_to_c = {}\n",
      "    for i in xrange(NUM_CLUSTERS):\n",
      "        c_to_c[i] = next(colors)\n",
      "        \n",
      "    fg = plt.figure(figsize=fig_size)\n",
      "    adj = plt.subplots_adjust(hspace=.5,wspace=.25)\n",
      "    sp = plt.subplot(aspect[0],aspect[1],1)\n",
      "    i = 0\n",
      "    for t in list_of_tuples:\n",
      "        ln = plt.subplot(aspect[0],aspect[1], i+1)\n",
      "        if plt_type == \"scatter\":\n",
      "            plt.scatter(t[0],t[1], c=[c_to_c[x] for x in cs], alpha=.5)\n",
      "            x_ax = (\"%s\" % list_of_axes[i][0])\n",
      "            y_ax = (\"%s\" % list_of_axes[i][1])\n",
      "            nice_graph(x_ax, y_ax,  (\"%s vs %s\" % (x_ax, y_ax)))\n",
      "            if plotBestFit:\n",
      "                p = np.polyfit(t[0],t[1],1)\n",
      "                x = t[0]\n",
      "                y = map(lambda x: p[0]*x+p[1], t[0])\n",
      "                be, = plt.plot(xy[0][0],[0]*len(xy[0][0]),'b--')\n",
      "                bf, = plt.plot(x,y,'r-')\n",
      "                fg.legend((be, bf), (\"Break Even\", \"Best Fit\"), \"upper right\")\n",
      "        elif plt_type == \"hist\":\n",
      "            plt.hist(t[0], bins=t[1][i])\n",
      "            title = (\"%s\" % list_of_axes[i])\n",
      "            num_bins = (\"%d\" % t[1][i])\n",
      "            nice_graph(num_bins, \"\",  title)\n",
      "        i = i + 1"
     ],
     "language": "python",
     "metadata": {},
     "outputs": []
    },
    {
     "cell_type": "code",
     "collapsed": false,
     "input": [
      "# Show distrobution of raw data for a given number of players\n",
      "for key, value in num_p_to_info.iteritems():\n",
      "    # get all of the players and see how they are distributed amongst our features\n",
      "    l = filter(lambda x: x != \"player\", value.columns)\n",
      "    features = map(lambda x: (value[x].tolist(), [10]*len(value[x])), l)\n",
      "    matrix_plot(features, [2,6], l, plt_type=\"hist\", fig_size=(20,8))\n",
      "    break"
     ],
     "language": "python",
     "metadata": {},
     "outputs": []
    },
    {
     "cell_type": "code",
     "collapsed": false,
     "input": [
      "# Get all pairs of features and examine how differenciated our clusters are\n",
      "# Show distrobution of raw data for a given number of players\n",
      "for key, value in num_p_to_info.iteritems():\n",
      "    if key < 6:\n",
      "        continue\n",
      "    else:\n",
      "        l = filter(lambda x: x != \"player\", allPlayerFeatures.columns)\n",
      "        l = list(itertools.combinations(l, r=2))\n",
      "        features = map(lambda x: (allPlayerFeatures[x[0]].tolist(), allPlayerFeatures[x[1]].tolist()), l)\n",
      "        matrix_plot(features, [3,4], l, cs=num_p_to_features[key].cluster)\n",
      "        break"
     ],
     "language": "python",
     "metadata": {},
     "outputs": []
    },
    {
     "cell_type": "heading",
     "level": 1,
     "metadata": {},
     "source": [
      "Player Clustering"
     ]
    },
    {
     "cell_type": "heading",
     "level": 3,
     "metadata": {},
     "source": [
      "Find your assigned method (labelled with your name) and implement your clustering algorithm with the allPlayerFeatures DataFrame"
     ]
    },
    {
     "cell_type": "heading",
     "level": 5,
     "metadata": {},
     "source": [
      "Principal Component Analysis (Dennis)"
     ]
    },
    {
     "cell_type": "code",
     "collapsed": false,
     "input": [
      "for key, value in num_p_to_features.iteritems():\n",
      "    if key < 5 or key > 6:\n",
      "        continue\n",
      "    # Training data\n",
      "    X = value.ix[:, 1:-1]\n",
      "\n",
      "    # Compute PCA\n",
      "    svd = sklearn.decomposition.TruncatedSVD(n_components=2, random_state=42)\n",
      "    svd.fit(X)\n",
      "\n",
      "    # Project\n",
      "    projections = np.dot(X, np.transpose(svd.components_))\n",
      "    # pp.pprint(allPlayerFeatures.columns)\n",
      "    # pp.pprint(svd.components_[0])\n",
      "    # pp.pprint(svd.components_[1])\n",
      "    # Use k_means labels to plot\n",
      "    \n",
      "    matrix_plot([(projections[:,0], projections[:,1])], [5,2], [[\"PC1\", \"PC2\"]], cs=value[\"cluster\"])"
     ],
     "language": "python",
     "metadata": {},
     "outputs": []
    },
    {
     "cell_type": "heading",
     "level": 5,
     "metadata": {},
     "source": [
      "Hierarchical Agglomerative Clustering (Mark)"
     ]
    },
    {
     "cell_type": "code",
     "collapsed": false,
     "input": [
      "# your code here\n",
      "from sklearn.cluster import AgglomerativeClustering\n",
      "\n",
      "hac_classifier = AgglomerativeClustering(n_clusters = NUM_CLUSTERS, affinity = 'manhattan', linkage = 'average', \\\n",
      "                                                 pooling_func = np.mean)\n",
      "hac_classifier.fit(allPlayerFeatures[['VPIP', 'PFR', 'handsWon', 'showdown', 'aggression']])\n",
      "matrix_plot(features, [5,2], l, cs=hac_classifier.labels_)\n"
     ],
     "language": "python",
     "metadata": {},
     "outputs": []
    },
    {
     "cell_type": "heading",
     "level": 5,
     "metadata": {},
     "source": [
      "k-Nearest Neighbours (Zach)"
     ]
    },
    {
     "cell_type": "code",
     "collapsed": false,
     "input": [],
     "language": "python",
     "metadata": {},
     "outputs": []
    },
    {
     "cell_type": "heading",
     "level": 5,
     "metadata": {},
     "source": [
      "Random Forests (Nick)"
     ]
    },
    {
     "cell_type": "code",
     "collapsed": false,
     "input": [
      "# your code here\n",
      "\n"
     ],
     "language": "python",
     "metadata": {},
     "outputs": []
    },
    {
     "cell_type": "heading",
     "level": 1,
     "metadata": {},
     "source": [
      "Scoring"
     ]
    },
    {
     "cell_type": "heading",
     "level": 3,
     "metadata": {},
     "source": [
      "We need a way to determine which one works best..."
     ]
    },
    {
     "cell_type": "markdown",
     "metadata": {},
     "source": [
      "Build dictionary which goes from number of players to a dataframe that includes player clusters.\n",
      "\n"
     ]
    },
    {
     "cell_type": "code",
     "collapsed": false,
     "input": [
      "names_to_cluster = {}\n",
      "for key, value in num_p_to_features.iteritems():\n",
      "    names_to_cluster[key] = value[[\"player\", \"cluster\"]]\n",
      "    \n",
      "# pp.pp\n",
      "for i in R:\n",
      "    num_p_to_raw[i] = pd.merge(num_p_to_raw[i], names_to_cluster[i], on=\"player\", how=\"right\")\n",
      "\n",
      "    \n",
      "num_p_to_raw[2].head()"
     ],
     "language": "python",
     "metadata": {},
     "outputs": []
    },
    {
     "cell_type": "markdown",
     "metadata": {},
     "source": [
      "For each player in each cluster calculate some average function"
     ]
    },
    {
     "cell_type": "code",
     "collapsed": false,
     "input": [
      "\"\"\"\n",
      "Given one of our dataframes, calculate average pnl\n",
      "\"\"\"\n",
      "def avg_pnl(df):\n",
      "    df[\"net\"]  = df.winnings - df.action\n",
      "    num_hands = len(df)\n",
      "    net_profit = df.sum().net\n",
      "    return float(net_profit) / num_hands\n",
      "\n",
      "\"\"\"\n",
      "Given one of our DataFrames, calculate median pnl\n",
      "\"\"\"\n",
      "def med_pnl(df):\n",
      "    df[\"net\"]  = df.winnings - df.action\n",
      "    return float(df.net.median())\n",
      "\n",
      "\n",
      "\"\"\"\n",
      "Given one of our DataFrames, calculate variance of pnl\n",
      "\"\"\"\n",
      "def var_pnl(df):\n",
      "    df[\"net\"]  = df.winnings - df.action\n",
      "    return float(df.net.var())\n"
     ],
     "language": "python",
     "metadata": {},
     "outputs": []
    },
    {
     "cell_type": "code",
     "collapsed": false,
     "input": [
      "\"\"\"\n",
      "[ cluster1 results, cluster2 results,... ], aspect = f(cluster), \n",
      "axes = (num_players, stat_name), \n",
      "Goal: Produce graph x = num_players, y = avg(stat)\n",
      "\"\"\"\n",
      "\n",
      "\"\"\"\n",
      "Given a function, return a dictionary {c1:[f(p1), f(p2),...], c2:[f(p1),...],...}\n",
      "\"\"\"\n",
      "def stats_per_cluster(df, clusters, f):\n",
      "        d = {x : [] for x in clusters}\n",
      "        tmp = df.groupby(\"player\")\n",
      "        for idx, p in tmp:\n",
      "            d[p.cluster.values[0]].append(f(p))\n",
      "        return d\n",
      "\n",
      "\n",
      "def get_averages_per_cluster(f):\n",
      "    averages_per_cluster = {x: ([], []) for x in range(NUM_CLUSTERS)}\n",
      "    for key, value in num_p_to_raw.iteritems():\n",
      "        cluster_to_stat = stats_per_cluster(value, range(NUM_CLUSTERS), f)\n",
      "        for clust, stats in cluster_to_stat.iteritems():\n",
      "            averages_per_cluster[clust][0].append(key)\n",
      "            averages_per_cluster[clust][1].append(np.mean(stats))\n",
      "    return averages_per_cluster\n",
      "    \n",
      "\n",
      "def plot_stats_per_cluster(l):\n",
      "    xy=[]\n",
      "    for key, value in l.iteritems():\n",
      "        xy.append(value)\n",
      "    matrix_plot(xy, [NUM_CLUSTERS,1], [(\"num_players\", \"average pnl\") for i in R], plotBestFit=True)\n",
      "\n",
      "    \n",
      "plot_stats_per_cluster(get_averages_per_cluster(avg_pnl))\n",
      "\n"
     ],
     "language": "python",
     "metadata": {},
     "outputs": []
    },
    {
     "cell_type": "code",
     "collapsed": false,
     "input": [
      "plot_stats_per_cluster(get_averages_per_cluster(med_pnl))"
     ],
     "language": "python",
     "metadata": {},
     "outputs": []
    },
    {
     "cell_type": "code",
     "collapsed": false,
     "input": [
      "plot_stats_per_cluster(get_averages_per_cluster(var_pnl))"
     ],
     "language": "python",
     "metadata": {},
     "outputs": []
    },
    {
     "cell_type": "code",
     "collapsed": false,
     "input": [],
     "language": "python",
     "metadata": {},
     "outputs": []
    }
   ],
   "metadata": {}
  }
 ]
}