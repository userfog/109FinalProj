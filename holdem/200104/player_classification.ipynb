{
 "metadata": {
  "name": "",
  "signature": "sha256:42b3711dd9f806ede3bd347967b993a2922edcdd9ee312c5a3e5c40b12f135fb"
 },
 "nbformat": 3,
 "nbformat_minor": 0,
 "worksheets": [
  {
   "cells": [
    {
     "cell_type": "code",
     "collapsed": false,
     "input": [
      "%matplotlib inline \n",
      "import pandas as pd\n",
      "import numpy as np\n",
      "import matplotlib.pyplot as plt\n",
      "import collections\n",
      "import pprint\n",
      "pp = pprint.PrettyPrinter(indent=8)\n",
      "import pylab\n",
      "from nick_proj.script import get_data"
     ],
     "language": "python",
     "metadata": {},
     "outputs": [],
     "prompt_number": 4
    },
    {
     "cell_type": "markdown",
     "metadata": {},
     "source": [
      "# Player Classification"
     ]
    },
    {
     "cell_type": "code",
     "collapsed": false,
     "input": [
      "NUM_PLAYERS_PATH = \"../../num_players_to_df/\"\n",
      "\n",
      "PLAYER_QUALITIES_COLUMNS = [\"player\", \"hands\", \"showdown\", \"post_flop\", \"positive\", \"zero\", \"neg\", \\\n",
      "                            \"winnings\", \"aggression\", \"prflop_folds\", \"prflop_raises\"]\n",
      "\n",
      "def nice_graph(xlab, ylab, title):\n",
      "    plt.xlabel(xlab)\n",
      "    plt.ylabel(ylab)\n",
      "    plt.title(title)\n",
      "\n",
      "player_features = pd.DataFrame(columns=PLAYER_QUALITIES_COLUMNS)"
     ],
     "language": "python",
     "metadata": {},
     "outputs": [],
     "prompt_number": 21
    },
    {
     "cell_type": "markdown",
     "metadata": {},
     "source": [
      "## Initialize Player Table"
     ]
    },
    {
     "cell_type": "code",
     "collapsed": false,
     "input": [
      "all_players = pd.DataFrame.from_csv(NUM_PLAYERS_PATH + \"all_players.csv\")\n",
      "\n",
      "all_players = all_players.groupby([\"player\"])\n",
      "series_dict = {key: [] for key in PLAYER_QUALITIES_COLUMNS}\n",
      "\n",
      "i = 0\n",
      "for idx, g in all_players:\n",
      "    series_dict[\"player\"].append(g[\"player\"].tolist()[0])\n",
      "    series_dict[\"hands\"].append(len(g))\n",
      "    g[\"net\"] = g.winnings - g.action\n",
      "    series_dict[\"positive\"].append(len(g[g.net > 0]))\n",
      "    series_dict[\"zero\"].append(len(g[g.net == 0]))\n",
      "    series_dict[\"neg\"].append(len(g[g.net < 0]))\n",
      "    series_dict[\"showdown\"].append(len(g[~(g.c1.str.contains(\"XX\") & g.c2.str.contains(\"XX\"))]))\n",
      "    series_dict[\"post_flop\"].append(len(g[~g.prflop.str.contains(\"f\")]))\n",
      "    series_dict[\"winnings\"].append(g[\"net\"].sum())\n",
      "    \n",
      "    # Compute aggression factor = (bet + raise) / call\n",
      "    numPreflopBets = reduce(lambda acc, x: x.count('b') + acc, g.prflop.values, 0)\n",
      "    numPreflopRaises = reduce(lambda acc, x: x.count('r') + acc, g.prflop.values, 0)\n",
      "    numPreflopCalls = reduce(lambda acc, x: x.count('c') + acc, g.prflop.values, 0)\n",
      "    numFlopBets = reduce(lambda acc, x: x.count('b') + acc, g.flop.values, 0)\n",
      "    numFlopRaises = reduce(lambda acc, x: x.count('r') + acc, g.flop.values, 0)\n",
      "    numFlopCalls = reduce(lambda acc, x: x.count('c') + acc, g.flop.values, 0)\n",
      "    numTurnBets = reduce(lambda acc, x: x.count('b') + acc, g.turn.values, 0)\n",
      "    numTurnRaises = reduce(lambda acc, x: x.count('r') + acc, g.turn.values, 0)\n",
      "    numTurnCalls = reduce(lambda acc, x: x.count('c') + acc, g.turn.values, 0)\n",
      "    numRiverBets = reduce(lambda acc, x: x.count('b') + acc, g.river.values, 0)\n",
      "    numRiverRaises = reduce(lambda acc, x: x.count('r') + acc, g.river.values, 0)\n",
      "    numRiverCalls = reduce(lambda acc, x: x.count('c') + acc, g.river.values, 0)\n",
      "    \n",
      "    aggroFactor = float(numPreflopBets + numPreflopRaises + numFlopBets + numFlopRaises + numTurnBets \\\n",
      "                   + numTurnRaises + numRiverBets + numRiverRaises) \\\n",
      "                   / max(1, numPreflopCalls + numFlopCalls + numTurnCalls + numRiverCalls)\n",
      "    \n",
      "    series_dict[\"aggression\"].append(aggroFactor)\n",
      "    \n",
      "    # Number of times just folded preflop\n",
      "    numPreflopFolds = len(g[g.prflop.str.startswith(\"Bf\") | g.prflop.str.startswith(\"f\")])\n",
      "    series_dict[\"prflop_folds\"].append(numPreflopFolds)\n",
      "    \n",
      "    # Number of times raised preflop\n",
      "    numPreflopRaises = len(g[g.prflop.str.contains(\"r\")])\n",
      "    series_dict[\"prflop_raises\"].append(numPreflopRaises)\n",
      "\n",
      "allPlayerInfo = pd.DataFrame.from_dict(series_dict)\n",
      "allPlayerInfo.head()"
     ],
     "language": "python",
     "metadata": {},
     "outputs": [
      {
       "html": [
        "<div style=\"max-height:1000px;max-width:1500px;overflow:auto;\">\n",
        "<table border=\"1\" class=\"dataframe\">\n",
        "  <thead>\n",
        "    <tr style=\"text-align: right;\">\n",
        "      <th></th>\n",
        "      <th>aggression</th>\n",
        "      <th>hands</th>\n",
        "      <th>neg</th>\n",
        "      <th>player</th>\n",
        "      <th>positive</th>\n",
        "      <th>post_flop</th>\n",
        "      <th>prflop_folds</th>\n",
        "      <th>prflop_raises</th>\n",
        "      <th>showdown</th>\n",
        "      <th>winnings</th>\n",
        "      <th>zero</th>\n",
        "    </tr>\n",
        "  </thead>\n",
        "  <tbody>\n",
        "    <tr>\n",
        "      <th>0</th>\n",
        "      <td> 0.342857</td>\n",
        "      <td>  63</td>\n",
        "      <td>  30</td>\n",
        "      <td> A52wkhi</td>\n",
        "      <td>  9</td>\n",
        "      <td>  35</td>\n",
        "      <td>  28</td>\n",
        "      <td>  2</td>\n",
        "      <td>  9</td>\n",
        "      <td>-100</td>\n",
        "      <td> 24</td>\n",
        "    </tr>\n",
        "    <tr>\n",
        "      <th>1</th>\n",
        "      <td> 1.365854</td>\n",
        "      <td>  71</td>\n",
        "      <td>  29</td>\n",
        "      <td>    AARD</td>\n",
        "      <td>  9</td>\n",
        "      <td>  36</td>\n",
        "      <td>  35</td>\n",
        "      <td> 12</td>\n",
        "      <td> 16</td>\n",
        "      <td> 145</td>\n",
        "      <td> 33</td>\n",
        "    </tr>\n",
        "    <tr>\n",
        "      <th>2</th>\n",
        "      <td> 0.247788</td>\n",
        "      <td> 219</td>\n",
        "      <td> 100</td>\n",
        "      <td> AAmazon</td>\n",
        "      <td> 26</td>\n",
        "      <td> 110</td>\n",
        "      <td> 109</td>\n",
        "      <td>  7</td>\n",
        "      <td> 38</td>\n",
        "      <td>-208</td>\n",
        "      <td> 93</td>\n",
        "    </tr>\n",
        "    <tr>\n",
        "      <th>3</th>\n",
        "      <td> 0.636364</td>\n",
        "      <td>   5</td>\n",
        "      <td>   4</td>\n",
        "      <td> AAvenom</td>\n",
        "      <td>  1</td>\n",
        "      <td>   5</td>\n",
        "      <td>   0</td>\n",
        "      <td>  1</td>\n",
        "      <td>  2</td>\n",
        "      <td>-175</td>\n",
        "      <td>  0</td>\n",
        "    </tr>\n",
        "    <tr>\n",
        "      <th>4</th>\n",
        "      <td> 0.265625</td>\n",
        "      <td> 116</td>\n",
        "      <td>  34</td>\n",
        "      <td> ADBNoNo</td>\n",
        "      <td> 10</td>\n",
        "      <td>  34</td>\n",
        "      <td>  82</td>\n",
        "      <td>  2</td>\n",
        "      <td> 14</td>\n",
        "      <td> 135</td>\n",
        "      <td> 72</td>\n",
        "    </tr>\n",
        "  </tbody>\n",
        "</table>\n",
        "</div>"
       ],
       "metadata": {},
       "output_type": "pyout",
       "prompt_number": 22,
       "text": [
        "   aggression  hands  neg   player  positive  post_flop  prflop_folds  \\\n",
        "0    0.342857     63   30  A52wkhi         9         35            28   \n",
        "1    1.365854     71   29     AARD         9         36            35   \n",
        "2    0.247788    219  100  AAmazon        26        110           109   \n",
        "3    0.636364      5    4  AAvenom         1          5             0   \n",
        "4    0.265625    116   34  ADBNoNo        10         34            82   \n",
        "\n",
        "   prflop_raises  showdown  winnings  zero  \n",
        "0              2         9      -100    24  \n",
        "1             12        16       145    33  \n",
        "2              7        38      -208    93  \n",
        "3              1         2      -175     0  \n",
        "4              2        14       135    72  "
       ]
      }
     ],
     "prompt_number": 22
    },
    {
     "cell_type": "heading",
     "level": 1,
     "metadata": {},
     "source": [
      "Player Features"
     ]
    },
    {
     "cell_type": "code",
     "collapsed": false,
     "input": [
      "allPlayerFeatures = pd.DataFrame()\n",
      "\n",
      "# Add players\n",
      "allPlayerFeatures['player'] = allPlayerInfo['player']\n",
      "\n",
      "# Compute voluntary put into pot percentage (VPIP)\n",
      "allPlayerFeatures['VPIP'] = (allPlayerInfo['hands'] - allPlayerInfo['prflop_folds']) / allPlayerInfo['hands']\n",
      "\n",
      "# Compute preflop raise percentage (PFR)\n",
      "allPlayerFeatures['PFR'] = allPlayerInfo['prflop_raises'] / allPlayerInfo['hands']\n",
      "\n",
      "# Compute percentage of hands won\n",
      "allPlayerFeatures['handsWon'] = allPlayerInfo['positive'] / allPlayerInfo['hands']\n",
      "\n",
      "# Compute percentage of hands to showdown\n",
      "allPlayerFeatures['showdown'] = allPlayerInfo['showdown'] / allPlayerInfo['hands']\n",
      "\n",
      "# Copy over aggression factor\n",
      "allPlayerFeatures['aggression'] = allPlayerInfo['aggression']\n",
      "\n",
      "allPlayerFeatures.head()"
     ],
     "language": "python",
     "metadata": {},
     "outputs": [
      {
       "html": [
        "<div style=\"max-height:1000px;max-width:1500px;overflow:auto;\">\n",
        "<table border=\"1\" class=\"dataframe\">\n",
        "  <thead>\n",
        "    <tr style=\"text-align: right;\">\n",
        "      <th></th>\n",
        "      <th>player</th>\n",
        "      <th>VPIP</th>\n",
        "      <th>PFR</th>\n",
        "      <th>handsWon</th>\n",
        "      <th>showdown</th>\n",
        "      <th>aggression</th>\n",
        "    </tr>\n",
        "  </thead>\n",
        "  <tbody>\n",
        "    <tr>\n",
        "      <th>0</th>\n",
        "      <td> A52wkhi</td>\n",
        "      <td> 0.555556</td>\n",
        "      <td> 0.031746</td>\n",
        "      <td> 0.142857</td>\n",
        "      <td> 0.142857</td>\n",
        "      <td> 0.342857</td>\n",
        "    </tr>\n",
        "    <tr>\n",
        "      <th>1</th>\n",
        "      <td>    AARD</td>\n",
        "      <td> 0.507042</td>\n",
        "      <td> 0.169014</td>\n",
        "      <td> 0.126761</td>\n",
        "      <td> 0.225352</td>\n",
        "      <td> 1.365854</td>\n",
        "    </tr>\n",
        "    <tr>\n",
        "      <th>2</th>\n",
        "      <td> AAmazon</td>\n",
        "      <td> 0.502283</td>\n",
        "      <td> 0.031963</td>\n",
        "      <td> 0.118721</td>\n",
        "      <td> 0.173516</td>\n",
        "      <td> 0.247788</td>\n",
        "    </tr>\n",
        "    <tr>\n",
        "      <th>3</th>\n",
        "      <td> AAvenom</td>\n",
        "      <td> 1.000000</td>\n",
        "      <td> 0.200000</td>\n",
        "      <td> 0.200000</td>\n",
        "      <td> 0.400000</td>\n",
        "      <td> 0.636364</td>\n",
        "    </tr>\n",
        "    <tr>\n",
        "      <th>4</th>\n",
        "      <td> ADBNoNo</td>\n",
        "      <td> 0.293103</td>\n",
        "      <td> 0.017241</td>\n",
        "      <td> 0.086207</td>\n",
        "      <td> 0.120690</td>\n",
        "      <td> 0.265625</td>\n",
        "    </tr>\n",
        "  </tbody>\n",
        "</table>\n",
        "</div>"
       ],
       "metadata": {},
       "output_type": "pyout",
       "prompt_number": 24,
       "text": [
        "    player      VPIP       PFR  handsWon  showdown  aggression\n",
        "0  A52wkhi  0.555556  0.031746  0.142857  0.142857    0.342857\n",
        "1     AARD  0.507042  0.169014  0.126761  0.225352    1.365854\n",
        "2  AAmazon  0.502283  0.031963  0.118721  0.173516    0.247788\n",
        "3  AAvenom  1.000000  0.200000  0.200000  0.400000    0.636364\n",
        "4  ADBNoNo  0.293103  0.017241  0.086207  0.120690    0.265625"
       ]
      }
     ],
     "prompt_number": 24
    },
    {
     "cell_type": "heading",
     "level": 1,
     "metadata": {},
     "source": [
      "Player Clustering"
     ]
    },
    {
     "cell_type": "heading",
     "level": 3,
     "metadata": {},
     "source": [
      "Find your assigned method (labelled with your name) and implement your clustering algorithm with the allPlayerFeatures DataFrame"
     ]
    },
    {
     "cell_type": "heading",
     "level": 5,
     "metadata": {},
     "source": [
      "Principal Component Analysis (Dennis)"
     ]
    },
    {
     "cell_type": "code",
     "collapsed": false,
     "input": [
      "# your code here\n",
      "\n"
     ],
     "language": "python",
     "metadata": {},
     "outputs": []
    },
    {
     "cell_type": "heading",
     "level": 5,
     "metadata": {},
     "source": [
      "Support Vector Machines (Mark)"
     ]
    },
    {
     "cell_type": "code",
     "collapsed": false,
     "input": [
      "# your code here\n",
      "\n"
     ],
     "language": "python",
     "metadata": {},
     "outputs": []
    },
    {
     "cell_type": "heading",
     "level": 5,
     "metadata": {},
     "source": [
      "k-Nearest Neighbours (Zach)"
     ]
    },
    {
     "cell_type": "code",
     "collapsed": false,
     "input": [
      "# your code here\n",
      "\n"
     ],
     "language": "python",
     "metadata": {},
     "outputs": []
    },
    {
     "cell_type": "heading",
     "level": 5,
     "metadata": {},
     "source": [
      "Random Forests (Nick)"
     ]
    },
    {
     "cell_type": "code",
     "collapsed": false,
     "input": [
      "# your code here\n",
      "\n"
     ],
     "language": "python",
     "metadata": {},
     "outputs": []
    },
    {
     "cell_type": "heading",
     "level": 1,
     "metadata": {},
     "source": [
      "Scoring"
     ]
    },
    {
     "cell_type": "heading",
     "level": 3,
     "metadata": {},
     "source": [
      "We need a way to determine which one works best..."
     ]
    },
    {
     "cell_type": "code",
     "collapsed": false,
     "input": [],
     "language": "python",
     "metadata": {},
     "outputs": []
    }
   ],
   "metadata": {}
  }
 ]
}